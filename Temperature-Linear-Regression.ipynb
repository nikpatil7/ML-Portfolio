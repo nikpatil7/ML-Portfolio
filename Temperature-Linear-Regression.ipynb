{
  "nbformat": 4,
  "nbformat_minor": 0,
  "metadata": {
    "colab": {
      "provenance": []
    },
    "kernelspec": {
      "name": "python3",
      "display_name": "Python 3"
    },
    "language_info": {
      "name": "python"
    }
  },
  "cells": [
    {
      "cell_type": "code",
      "execution_count": null,
      "metadata": {
        "id": "FUJR8qukNZZo"
      },
      "outputs": [],
      "source": [
        "import pandas as pd\n",
        "import seaborn as sns\n",
        "import numpy as np\n",
        "import matplotlib as plt"
      ]
    },
    {
      "cell_type": "code",
      "source": [
        "data = pd.read_csv(r'/content/2temperatures.csv')"
      ],
      "metadata": {
        "id": "5L2rXYjWN7qV"
      },
      "execution_count": null,
      "outputs": []
    },
    {
      "cell_type": "code",
      "source": [
        "data.shape"
      ],
      "metadata": {
        "colab": {
          "base_uri": "https://localhost:8080/"
        },
        "id": "J5NAFNyCUpnI",
        "outputId": "571b3369-a6a9-4d24-cfc4-bbe68c93f266"
      },
      "execution_count": null,
      "outputs": [
        {
          "output_type": "execute_result",
          "data": {
            "text/plain": [
              "(117, 18)"
            ]
          },
          "metadata": {},
          "execution_count": 4
        }
      ]
    },
    {
      "cell_type": "code",
      "source": [
        "data.head(5)"
      ],
      "metadata": {
        "colab": {
          "base_uri": "https://localhost:8080/",
          "height": 243
        },
        "id": "zAze7_k8UwcK",
        "outputId": "804d57a6-4f23-49bd-d42a-a88511ee8ab8"
      },
      "execution_count": null,
      "outputs": [
        {
          "output_type": "execute_result",
          "data": {
            "text/plain": [
              "   YEAR    JAN    FEB    MAR    APR    MAY    JUN    JUL    AUG    SEP    OCT  \\\n",
              "0  1901  22.40  24.14  29.07  31.91  33.41  33.18  31.21  30.39  30.47  29.97   \n",
              "1  1902  24.93  26.58  29.77  31.78  33.73  32.91  30.92  30.73  29.80  29.12   \n",
              "2  1903  23.44  25.03  27.83  31.39  32.91  33.00  31.34  29.98  29.85  29.04   \n",
              "3  1904  22.50  24.73  28.21  32.02  32.64  32.07  30.36  30.09  30.04  29.20   \n",
              "4  1905  22.00  22.83  26.68  30.01  33.32  33.25  31.44  30.68  30.12  30.67   \n",
              "\n",
              "     NOV    DEC  ANNUAL  JAN-FEB  MAR-MAY  JUN-SEP  OCT-DEC  \n",
              "0  27.31  24.49   28.96    23.27    31.46    31.27    27.25  \n",
              "1  26.31  24.04   29.22    25.75    31.76    31.09    26.49  \n",
              "2  26.08  23.65   28.47    24.24    30.71    30.92    26.26  \n",
              "3  26.36  23.63   28.49    23.62    30.95    30.66    26.40  \n",
              "4  27.52  23.82   28.30    22.25    30.00    31.33    26.57  "
            ],
            "text/html": [
              "\n",
              "  <div id=\"df-100ad4d0-f6fe-4021-93fc-dcac3175e0db\" class=\"colab-df-container\">\n",
              "    <div>\n",
              "<style scoped>\n",
              "    .dataframe tbody tr th:only-of-type {\n",
              "        vertical-align: middle;\n",
              "    }\n",
              "\n",
              "    .dataframe tbody tr th {\n",
              "        vertical-align: top;\n",
              "    }\n",
              "\n",
              "    .dataframe thead th {\n",
              "        text-align: right;\n",
              "    }\n",
              "</style>\n",
              "<table border=\"1\" class=\"dataframe\">\n",
              "  <thead>\n",
              "    <tr style=\"text-align: right;\">\n",
              "      <th></th>\n",
              "      <th>YEAR</th>\n",
              "      <th>JAN</th>\n",
              "      <th>FEB</th>\n",
              "      <th>MAR</th>\n",
              "      <th>APR</th>\n",
              "      <th>MAY</th>\n",
              "      <th>JUN</th>\n",
              "      <th>JUL</th>\n",
              "      <th>AUG</th>\n",
              "      <th>SEP</th>\n",
              "      <th>OCT</th>\n",
              "      <th>NOV</th>\n",
              "      <th>DEC</th>\n",
              "      <th>ANNUAL</th>\n",
              "      <th>JAN-FEB</th>\n",
              "      <th>MAR-MAY</th>\n",
              "      <th>JUN-SEP</th>\n",
              "      <th>OCT-DEC</th>\n",
              "    </tr>\n",
              "  </thead>\n",
              "  <tbody>\n",
              "    <tr>\n",
              "      <th>0</th>\n",
              "      <td>1901</td>\n",
              "      <td>22.40</td>\n",
              "      <td>24.14</td>\n",
              "      <td>29.07</td>\n",
              "      <td>31.91</td>\n",
              "      <td>33.41</td>\n",
              "      <td>33.18</td>\n",
              "      <td>31.21</td>\n",
              "      <td>30.39</td>\n",
              "      <td>30.47</td>\n",
              "      <td>29.97</td>\n",
              "      <td>27.31</td>\n",
              "      <td>24.49</td>\n",
              "      <td>28.96</td>\n",
              "      <td>23.27</td>\n",
              "      <td>31.46</td>\n",
              "      <td>31.27</td>\n",
              "      <td>27.25</td>\n",
              "    </tr>\n",
              "    <tr>\n",
              "      <th>1</th>\n",
              "      <td>1902</td>\n",
              "      <td>24.93</td>\n",
              "      <td>26.58</td>\n",
              "      <td>29.77</td>\n",
              "      <td>31.78</td>\n",
              "      <td>33.73</td>\n",
              "      <td>32.91</td>\n",
              "      <td>30.92</td>\n",
              "      <td>30.73</td>\n",
              "      <td>29.80</td>\n",
              "      <td>29.12</td>\n",
              "      <td>26.31</td>\n",
              "      <td>24.04</td>\n",
              "      <td>29.22</td>\n",
              "      <td>25.75</td>\n",
              "      <td>31.76</td>\n",
              "      <td>31.09</td>\n",
              "      <td>26.49</td>\n",
              "    </tr>\n",
              "    <tr>\n",
              "      <th>2</th>\n",
              "      <td>1903</td>\n",
              "      <td>23.44</td>\n",
              "      <td>25.03</td>\n",
              "      <td>27.83</td>\n",
              "      <td>31.39</td>\n",
              "      <td>32.91</td>\n",
              "      <td>33.00</td>\n",
              "      <td>31.34</td>\n",
              "      <td>29.98</td>\n",
              "      <td>29.85</td>\n",
              "      <td>29.04</td>\n",
              "      <td>26.08</td>\n",
              "      <td>23.65</td>\n",
              "      <td>28.47</td>\n",
              "      <td>24.24</td>\n",
              "      <td>30.71</td>\n",
              "      <td>30.92</td>\n",
              "      <td>26.26</td>\n",
              "    </tr>\n",
              "    <tr>\n",
              "      <th>3</th>\n",
              "      <td>1904</td>\n",
              "      <td>22.50</td>\n",
              "      <td>24.73</td>\n",
              "      <td>28.21</td>\n",
              "      <td>32.02</td>\n",
              "      <td>32.64</td>\n",
              "      <td>32.07</td>\n",
              "      <td>30.36</td>\n",
              "      <td>30.09</td>\n",
              "      <td>30.04</td>\n",
              "      <td>29.20</td>\n",
              "      <td>26.36</td>\n",
              "      <td>23.63</td>\n",
              "      <td>28.49</td>\n",
              "      <td>23.62</td>\n",
              "      <td>30.95</td>\n",
              "      <td>30.66</td>\n",
              "      <td>26.40</td>\n",
              "    </tr>\n",
              "    <tr>\n",
              "      <th>4</th>\n",
              "      <td>1905</td>\n",
              "      <td>22.00</td>\n",
              "      <td>22.83</td>\n",
              "      <td>26.68</td>\n",
              "      <td>30.01</td>\n",
              "      <td>33.32</td>\n",
              "      <td>33.25</td>\n",
              "      <td>31.44</td>\n",
              "      <td>30.68</td>\n",
              "      <td>30.12</td>\n",
              "      <td>30.67</td>\n",
              "      <td>27.52</td>\n",
              "      <td>23.82</td>\n",
              "      <td>28.30</td>\n",
              "      <td>22.25</td>\n",
              "      <td>30.00</td>\n",
              "      <td>31.33</td>\n",
              "      <td>26.57</td>\n",
              "    </tr>\n",
              "  </tbody>\n",
              "</table>\n",
              "</div>\n",
              "    <div class=\"colab-df-buttons\">\n",
              "\n",
              "  <div class=\"colab-df-container\">\n",
              "    <button class=\"colab-df-convert\" onclick=\"convertToInteractive('df-100ad4d0-f6fe-4021-93fc-dcac3175e0db')\"\n",
              "            title=\"Convert this dataframe to an interactive table.\"\n",
              "            style=\"display:none;\">\n",
              "\n",
              "  <svg xmlns=\"http://www.w3.org/2000/svg\" height=\"24px\" viewBox=\"0 -960 960 960\">\n",
              "    <path d=\"M120-120v-720h720v720H120Zm60-500h600v-160H180v160Zm220 220h160v-160H400v160Zm0 220h160v-160H400v160ZM180-400h160v-160H180v160Zm440 0h160v-160H620v160ZM180-180h160v-160H180v160Zm440 0h160v-160H620v160Z\"/>\n",
              "  </svg>\n",
              "    </button>\n",
              "\n",
              "  <style>\n",
              "    .colab-df-container {\n",
              "      display:flex;\n",
              "      gap: 12px;\n",
              "    }\n",
              "\n",
              "    .colab-df-convert {\n",
              "      background-color: #E8F0FE;\n",
              "      border: none;\n",
              "      border-radius: 50%;\n",
              "      cursor: pointer;\n",
              "      display: none;\n",
              "      fill: #1967D2;\n",
              "      height: 32px;\n",
              "      padding: 0 0 0 0;\n",
              "      width: 32px;\n",
              "    }\n",
              "\n",
              "    .colab-df-convert:hover {\n",
              "      background-color: #E2EBFA;\n",
              "      box-shadow: 0px 1px 2px rgba(60, 64, 67, 0.3), 0px 1px 3px 1px rgba(60, 64, 67, 0.15);\n",
              "      fill: #174EA6;\n",
              "    }\n",
              "\n",
              "    .colab-df-buttons div {\n",
              "      margin-bottom: 4px;\n",
              "    }\n",
              "\n",
              "    [theme=dark] .colab-df-convert {\n",
              "      background-color: #3B4455;\n",
              "      fill: #D2E3FC;\n",
              "    }\n",
              "\n",
              "    [theme=dark] .colab-df-convert:hover {\n",
              "      background-color: #434B5C;\n",
              "      box-shadow: 0px 1px 3px 1px rgba(0, 0, 0, 0.15);\n",
              "      filter: drop-shadow(0px 1px 2px rgba(0, 0, 0, 0.3));\n",
              "      fill: #FFFFFF;\n",
              "    }\n",
              "  </style>\n",
              "\n",
              "    <script>\n",
              "      const buttonEl =\n",
              "        document.querySelector('#df-100ad4d0-f6fe-4021-93fc-dcac3175e0db button.colab-df-convert');\n",
              "      buttonEl.style.display =\n",
              "        google.colab.kernel.accessAllowed ? 'block' : 'none';\n",
              "\n",
              "      async function convertToInteractive(key) {\n",
              "        const element = document.querySelector('#df-100ad4d0-f6fe-4021-93fc-dcac3175e0db');\n",
              "        const dataTable =\n",
              "          await google.colab.kernel.invokeFunction('convertToInteractive',\n",
              "                                                    [key], {});\n",
              "        if (!dataTable) return;\n",
              "\n",
              "        const docLinkHtml = 'Like what you see? Visit the ' +\n",
              "          '<a target=\"_blank\" href=https://colab.research.google.com/notebooks/data_table.ipynb>data table notebook</a>'\n",
              "          + ' to learn more about interactive tables.';\n",
              "        element.innerHTML = '';\n",
              "        dataTable['output_type'] = 'display_data';\n",
              "        await google.colab.output.renderOutput(dataTable, element);\n",
              "        const docLink = document.createElement('div');\n",
              "        docLink.innerHTML = docLinkHtml;\n",
              "        element.appendChild(docLink);\n",
              "      }\n",
              "    </script>\n",
              "  </div>\n",
              "\n",
              "\n",
              "<div id=\"df-c06fd44b-6e25-4940-a689-34e323db7466\">\n",
              "  <button class=\"colab-df-quickchart\" onclick=\"quickchart('df-c06fd44b-6e25-4940-a689-34e323db7466')\"\n",
              "            title=\"Suggest charts\"\n",
              "            style=\"display:none;\">\n",
              "\n",
              "<svg xmlns=\"http://www.w3.org/2000/svg\" height=\"24px\"viewBox=\"0 0 24 24\"\n",
              "     width=\"24px\">\n",
              "    <g>\n",
              "        <path d=\"M19 3H5c-1.1 0-2 .9-2 2v14c0 1.1.9 2 2 2h14c1.1 0 2-.9 2-2V5c0-1.1-.9-2-2-2zM9 17H7v-7h2v7zm4 0h-2V7h2v10zm4 0h-2v-4h2v4z\"/>\n",
              "    </g>\n",
              "</svg>\n",
              "  </button>\n",
              "\n",
              "<style>\n",
              "  .colab-df-quickchart {\n",
              "      --bg-color: #E8F0FE;\n",
              "      --fill-color: #1967D2;\n",
              "      --hover-bg-color: #E2EBFA;\n",
              "      --hover-fill-color: #174EA6;\n",
              "      --disabled-fill-color: #AAA;\n",
              "      --disabled-bg-color: #DDD;\n",
              "  }\n",
              "\n",
              "  [theme=dark] .colab-df-quickchart {\n",
              "      --bg-color: #3B4455;\n",
              "      --fill-color: #D2E3FC;\n",
              "      --hover-bg-color: #434B5C;\n",
              "      --hover-fill-color: #FFFFFF;\n",
              "      --disabled-bg-color: #3B4455;\n",
              "      --disabled-fill-color: #666;\n",
              "  }\n",
              "\n",
              "  .colab-df-quickchart {\n",
              "    background-color: var(--bg-color);\n",
              "    border: none;\n",
              "    border-radius: 50%;\n",
              "    cursor: pointer;\n",
              "    display: none;\n",
              "    fill: var(--fill-color);\n",
              "    height: 32px;\n",
              "    padding: 0;\n",
              "    width: 32px;\n",
              "  }\n",
              "\n",
              "  .colab-df-quickchart:hover {\n",
              "    background-color: var(--hover-bg-color);\n",
              "    box-shadow: 0 1px 2px rgba(60, 64, 67, 0.3), 0 1px 3px 1px rgba(60, 64, 67, 0.15);\n",
              "    fill: var(--button-hover-fill-color);\n",
              "  }\n",
              "\n",
              "  .colab-df-quickchart-complete:disabled,\n",
              "  .colab-df-quickchart-complete:disabled:hover {\n",
              "    background-color: var(--disabled-bg-color);\n",
              "    fill: var(--disabled-fill-color);\n",
              "    box-shadow: none;\n",
              "  }\n",
              "\n",
              "  .colab-df-spinner {\n",
              "    border: 2px solid var(--fill-color);\n",
              "    border-color: transparent;\n",
              "    border-bottom-color: var(--fill-color);\n",
              "    animation:\n",
              "      spin 1s steps(1) infinite;\n",
              "  }\n",
              "\n",
              "  @keyframes spin {\n",
              "    0% {\n",
              "      border-color: transparent;\n",
              "      border-bottom-color: var(--fill-color);\n",
              "      border-left-color: var(--fill-color);\n",
              "    }\n",
              "    20% {\n",
              "      border-color: transparent;\n",
              "      border-left-color: var(--fill-color);\n",
              "      border-top-color: var(--fill-color);\n",
              "    }\n",
              "    30% {\n",
              "      border-color: transparent;\n",
              "      border-left-color: var(--fill-color);\n",
              "      border-top-color: var(--fill-color);\n",
              "      border-right-color: var(--fill-color);\n",
              "    }\n",
              "    40% {\n",
              "      border-color: transparent;\n",
              "      border-right-color: var(--fill-color);\n",
              "      border-top-color: var(--fill-color);\n",
              "    }\n",
              "    60% {\n",
              "      border-color: transparent;\n",
              "      border-right-color: var(--fill-color);\n",
              "    }\n",
              "    80% {\n",
              "      border-color: transparent;\n",
              "      border-right-color: var(--fill-color);\n",
              "      border-bottom-color: var(--fill-color);\n",
              "    }\n",
              "    90% {\n",
              "      border-color: transparent;\n",
              "      border-bottom-color: var(--fill-color);\n",
              "    }\n",
              "  }\n",
              "</style>\n",
              "\n",
              "  <script>\n",
              "    async function quickchart(key) {\n",
              "      const quickchartButtonEl =\n",
              "        document.querySelector('#' + key + ' button');\n",
              "      quickchartButtonEl.disabled = true;  // To prevent multiple clicks.\n",
              "      quickchartButtonEl.classList.add('colab-df-spinner');\n",
              "      try {\n",
              "        const charts = await google.colab.kernel.invokeFunction(\n",
              "            'suggestCharts', [key], {});\n",
              "      } catch (error) {\n",
              "        console.error('Error during call to suggestCharts:', error);\n",
              "      }\n",
              "      quickchartButtonEl.classList.remove('colab-df-spinner');\n",
              "      quickchartButtonEl.classList.add('colab-df-quickchart-complete');\n",
              "    }\n",
              "    (() => {\n",
              "      let quickchartButtonEl =\n",
              "        document.querySelector('#df-c06fd44b-6e25-4940-a689-34e323db7466 button');\n",
              "      quickchartButtonEl.style.display =\n",
              "        google.colab.kernel.accessAllowed ? 'block' : 'none';\n",
              "    })();\n",
              "  </script>\n",
              "</div>\n",
              "\n",
              "    </div>\n",
              "  </div>\n"
            ],
            "application/vnd.google.colaboratory.intrinsic+json": {
              "type": "dataframe",
              "variable_name": "data",
              "summary": "{\n  \"name\": \"data\",\n  \"rows\": 117,\n  \"fields\": [\n    {\n      \"column\": \"YEAR\",\n      \"properties\": {\n        \"dtype\": \"number\",\n        \"std\": 33,\n        \"min\": 1901,\n        \"max\": 2017,\n        \"num_unique_values\": 117,\n        \"samples\": [\n          1945,\n          1905,\n          1954\n        ],\n        \"semantic_type\": \"\",\n        \"description\": \"\"\n      }\n    },\n    {\n      \"column\": \"JAN\",\n      \"properties\": {\n        \"dtype\": \"number\",\n        \"std\": 0.8345876060357841,\n        \"min\": 22.0,\n        \"max\": 26.94,\n        \"num_unique_values\": 93,\n        \"samples\": [\n          22.38,\n          22.84,\n          22.9\n        ],\n        \"semantic_type\": \"\",\n        \"description\": \"\"\n      }\n    },\n    {\n      \"column\": \"FEB\",\n      \"properties\": {\n        \"dtype\": \"number\",\n        \"std\": 1.1507567443147628,\n        \"min\": 22.83,\n        \"max\": 29.72,\n        \"num_unique_values\": 99,\n        \"samples\": [\n          26.19,\n          25.33,\n          26.59\n        ],\n        \"semantic_type\": \"\",\n        \"description\": \"\"\n      }\n    },\n    {\n      \"column\": \"MAR\",\n      \"properties\": {\n        \"dtype\": \"number\",\n        \"std\": 1.0684512315440673,\n        \"min\": 26.68,\n        \"max\": 32.62,\n        \"num_unique_values\": 99,\n        \"samples\": [\n          29.26,\n          29.11,\n          30.2\n        ],\n        \"semantic_type\": \"\",\n        \"description\": \"\"\n      }\n    },\n    {\n      \"column\": \"APR\",\n      \"properties\": {\n        \"dtype\": \"number\",\n        \"std\": 0.8894779942580804,\n        \"min\": 30.01,\n        \"max\": 35.38,\n        \"num_unique_values\": 98,\n        \"samples\": [\n          32.68,\n          30.75,\n          32.74\n        ],\n        \"semantic_type\": \"\",\n        \"description\": \"\"\n      }\n    },\n    {\n      \"column\": \"MAY\",\n      \"properties\": {\n        \"dtype\": \"number\",\n        \"std\": 0.7249049553033844,\n        \"min\": 31.93,\n        \"max\": 35.84,\n        \"num_unique_values\": 92,\n        \"samples\": [\n          34.23,\n          32.35,\n          32.86\n        ],\n        \"semantic_type\": \"\",\n        \"description\": \"\"\n      }\n    },\n    {\n      \"column\": \"JUN\",\n      \"properties\": {\n        \"dtype\": \"number\",\n        \"std\": 0.6331316748149579,\n        \"min\": 31.1,\n        \"max\": 34.48,\n        \"num_unique_values\": 87,\n        \"samples\": [\n          32.29,\n          33.18,\n          32.2\n        ],\n        \"semantic_type\": \"\",\n        \"description\": \"\"\n      }\n    },\n    {\n      \"column\": \"JUL\",\n      \"properties\": {\n        \"dtype\": \"number\",\n        \"std\": 0.468817576914948,\n        \"min\": 29.76,\n        \"max\": 32.76,\n        \"num_unique_values\": 81,\n        \"samples\": [\n          30.73,\n          31.21,\n          30.81\n        ],\n        \"semantic_type\": \"\",\n        \"description\": \"\"\n      }\n    },\n    {\n      \"column\": \"AUG\",\n      \"properties\": {\n        \"dtype\": \"number\",\n        \"std\": 0.47631195336992843,\n        \"min\": 29.31,\n        \"max\": 31.84,\n        \"num_unique_values\": 81,\n        \"samples\": [\n          30.32,\n          30.39,\n          30.08\n        ],\n        \"semantic_type\": \"\",\n        \"description\": \"\"\n      }\n    },\n    {\n      \"column\": \"SEP\",\n      \"properties\": {\n        \"dtype\": \"number\",\n        \"std\": 0.5442945910325506,\n        \"min\": 29.07,\n        \"max\": 32.22,\n        \"num_unique_values\": 91,\n        \"samples\": [\n          30.55,\n          29.32,\n          29.71\n        ],\n        \"semantic_type\": \"\",\n        \"description\": \"\"\n      }\n    },\n    {\n      \"column\": \"OCT\",\n      \"properties\": {\n        \"dtype\": \"number\",\n        \"std\": 0.705492200882088,\n        \"min\": 27.9,\n        \"max\": 32.29,\n        \"num_unique_values\": 90,\n        \"samples\": [\n          28.96,\n          28.57,\n          30.13\n        ],\n        \"semantic_type\": \"\",\n        \"description\": \"\"\n      }\n    },\n    {\n      \"column\": \"NOV\",\n      \"properties\": {\n        \"dtype\": \"number\",\n        \"std\": 0.7145175557391684,\n        \"min\": 25.7,\n        \"max\": 30.11,\n        \"num_unique_values\": 98,\n        \"samples\": [\n          27.49,\n          27.71,\n          28.05\n        ],\n        \"semantic_type\": \"\",\n        \"description\": \"\"\n      }\n    },\n    {\n      \"column\": \"DEC\",\n      \"properties\": {\n        \"dtype\": \"number\",\n        \"std\": 0.7826439391666522,\n        \"min\": 23.02,\n        \"max\": 28.01,\n        \"num_unique_values\": 96,\n        \"samples\": [\n          25.15,\n          26.21,\n          24.67\n        ],\n        \"semantic_type\": \"\",\n        \"description\": \"\"\n      }\n    },\n    {\n      \"column\": \"ANNUAL\",\n      \"properties\": {\n        \"dtype\": \"number\",\n        \"std\": 0.5555548732680748,\n        \"min\": 28.11,\n        \"max\": 31.63,\n        \"num_unique_values\": 82,\n        \"samples\": [\n          29.46,\n          28.96,\n          28.59\n        ],\n        \"semantic_type\": \"\",\n        \"description\": \"\"\n      }\n    },\n    {\n      \"column\": \"JAN-FEB\",\n      \"properties\": {\n        \"dtype\": \"number\",\n        \"std\": 0.9112386351993575,\n        \"min\": 22.25,\n        \"max\": 28.33,\n        \"num_unique_values\": 97,\n        \"samples\": [\n          24.12,\n          25.49,\n          25.58\n        ],\n        \"semantic_type\": \"\",\n        \"description\": \"\"\n      }\n    },\n    {\n      \"column\": \"MAR-MAY\",\n      \"properties\": {\n        \"dtype\": \"number\",\n        \"std\": 0.7405853341744105,\n        \"min\": 29.92,\n        \"max\": 34.57,\n        \"num_unique_values\": 97,\n        \"samples\": [\n          31.62,\n          30.8,\n          31.82\n        ],\n        \"semantic_type\": \"\",\n        \"description\": \"\"\n      }\n    },\n    {\n      \"column\": \"JUN-SEP\",\n      \"properties\": {\n        \"dtype\": \"number\",\n        \"std\": 0.42050793461827,\n        \"min\": 30.24,\n        \"max\": 32.41,\n        \"num_unique_values\": 78,\n        \"samples\": [\n          31.37,\n          31.27,\n          30.99\n        ],\n        \"semantic_type\": \"\",\n        \"description\": \"\"\n      }\n    },\n    {\n      \"column\": \"OCT-DEC\",\n      \"properties\": {\n        \"dtype\": \"number\",\n        \"std\": 0.6720028371552533,\n        \"min\": 25.74,\n        \"max\": 30.03,\n        \"num_unique_values\": 91,\n        \"samples\": [\n          26.77,\n          26.74,\n          27.71\n        ],\n        \"semantic_type\": \"\",\n        \"description\": \"\"\n      }\n    }\n  ]\n}"
            }
          },
          "metadata": {},
          "execution_count": 5
        }
      ]
    },
    {
      "cell_type": "code",
      "source": [
        "data.isnull().sum()"
      ],
      "metadata": {
        "colab": {
          "base_uri": "https://localhost:8080/",
          "height": 648
        },
        "id": "mgiPzbasUz8O",
        "outputId": "760903c8-73b0-44cc-8ce2-4830c6b362ed"
      },
      "execution_count": null,
      "outputs": [
        {
          "output_type": "execute_result",
          "data": {
            "text/plain": [
              "YEAR       0\n",
              "JAN        0\n",
              "FEB        0\n",
              "MAR        0\n",
              "APR        0\n",
              "MAY        0\n",
              "JUN        0\n",
              "JUL        0\n",
              "AUG        0\n",
              "SEP        0\n",
              "OCT        0\n",
              "NOV        0\n",
              "DEC        0\n",
              "ANNUAL     0\n",
              "JAN-FEB    0\n",
              "MAR-MAY    0\n",
              "JUN-SEP    0\n",
              "OCT-DEC    0\n",
              "dtype: int64"
            ],
            "text/html": [
              "<div>\n",
              "<style scoped>\n",
              "    .dataframe tbody tr th:only-of-type {\n",
              "        vertical-align: middle;\n",
              "    }\n",
              "\n",
              "    .dataframe tbody tr th {\n",
              "        vertical-align: top;\n",
              "    }\n",
              "\n",
              "    .dataframe thead th {\n",
              "        text-align: right;\n",
              "    }\n",
              "</style>\n",
              "<table border=\"1\" class=\"dataframe\">\n",
              "  <thead>\n",
              "    <tr style=\"text-align: right;\">\n",
              "      <th></th>\n",
              "      <th>0</th>\n",
              "    </tr>\n",
              "  </thead>\n",
              "  <tbody>\n",
              "    <tr>\n",
              "      <th>YEAR</th>\n",
              "      <td>0</td>\n",
              "    </tr>\n",
              "    <tr>\n",
              "      <th>JAN</th>\n",
              "      <td>0</td>\n",
              "    </tr>\n",
              "    <tr>\n",
              "      <th>FEB</th>\n",
              "      <td>0</td>\n",
              "    </tr>\n",
              "    <tr>\n",
              "      <th>MAR</th>\n",
              "      <td>0</td>\n",
              "    </tr>\n",
              "    <tr>\n",
              "      <th>APR</th>\n",
              "      <td>0</td>\n",
              "    </tr>\n",
              "    <tr>\n",
              "      <th>MAY</th>\n",
              "      <td>0</td>\n",
              "    </tr>\n",
              "    <tr>\n",
              "      <th>JUN</th>\n",
              "      <td>0</td>\n",
              "    </tr>\n",
              "    <tr>\n",
              "      <th>JUL</th>\n",
              "      <td>0</td>\n",
              "    </tr>\n",
              "    <tr>\n",
              "      <th>AUG</th>\n",
              "      <td>0</td>\n",
              "    </tr>\n",
              "    <tr>\n",
              "      <th>SEP</th>\n",
              "      <td>0</td>\n",
              "    </tr>\n",
              "    <tr>\n",
              "      <th>OCT</th>\n",
              "      <td>0</td>\n",
              "    </tr>\n",
              "    <tr>\n",
              "      <th>NOV</th>\n",
              "      <td>0</td>\n",
              "    </tr>\n",
              "    <tr>\n",
              "      <th>DEC</th>\n",
              "      <td>0</td>\n",
              "    </tr>\n",
              "    <tr>\n",
              "      <th>ANNUAL</th>\n",
              "      <td>0</td>\n",
              "    </tr>\n",
              "    <tr>\n",
              "      <th>JAN-FEB</th>\n",
              "      <td>0</td>\n",
              "    </tr>\n",
              "    <tr>\n",
              "      <th>MAR-MAY</th>\n",
              "      <td>0</td>\n",
              "    </tr>\n",
              "    <tr>\n",
              "      <th>JUN-SEP</th>\n",
              "      <td>0</td>\n",
              "    </tr>\n",
              "    <tr>\n",
              "      <th>OCT-DEC</th>\n",
              "      <td>0</td>\n",
              "    </tr>\n",
              "  </tbody>\n",
              "</table>\n",
              "</div><br><label><b>dtype:</b> int64</label>"
            ]
          },
          "metadata": {},
          "execution_count": 7
        }
      ]
    },
    {
      "cell_type": "code",
      "source": [
        "## Train Test data splitting\n",
        "from sklearn.model_selection import train_test_split"
      ],
      "metadata": {
        "id": "nEbNLO1QU3Bm"
      },
      "execution_count": null,
      "outputs": []
    },
    {
      "cell_type": "code",
      "source": [
        "# dependent and independent variable declaration\n",
        "X=data[[\"YEAR\"]]\n",
        "Y=data[[\"JAN\"]]"
      ],
      "metadata": {
        "id": "9j9Bww23VgOg"
      },
      "execution_count": null,
      "outputs": []
    },
    {
      "cell_type": "code",
      "source": [
        "x_train,x_test,y_train,y_test =train_test_split(X,Y,test_size=0.2)"
      ],
      "metadata": {
        "id": "Hovycj1DVUxQ"
      },
      "execution_count": null,
      "outputs": []
    },
    {
      "cell_type": "code",
      "source": [
        "print(len(x_train))\n",
        "print(len(x_test))"
      ],
      "metadata": {
        "colab": {
          "base_uri": "https://localhost:8080/"
        },
        "id": "dUwHqCqRX4Pd",
        "outputId": "37279c95-bc84-4983-dc7f-5f7d7a59cba0"
      },
      "execution_count": null,
      "outputs": [
        {
          "output_type": "stream",
          "name": "stdout",
          "text": [
            "93\n",
            "24\n"
          ]
        }
      ]
    },
    {
      "cell_type": "code",
      "source": [
        "## model\n",
        "from sklearn.linear_model import LinearRegression"
      ],
      "metadata": {
        "id": "fMO4Eon0WHms"
      },
      "execution_count": null,
      "outputs": []
    },
    {
      "cell_type": "code",
      "source": [
        "reg = LinearRegression()"
      ],
      "metadata": {
        "id": "v8YUF97AWf89"
      },
      "execution_count": null,
      "outputs": []
    },
    {
      "cell_type": "code",
      "source": [
        "model = reg.fit(x_train, y_train)"
      ],
      "metadata": {
        "id": "4O7yiEb0Wox4"
      },
      "execution_count": null,
      "outputs": []
    },
    {
      "cell_type": "code",
      "source": [
        "print(model.coef_)\n",
        "print(model.intercept_)"
      ],
      "metadata": {
        "colab": {
          "base_uri": "https://localhost:8080/"
        },
        "id": "yy2FV4eBX0Zg",
        "outputId": "ca2145f8-dc89-4b13-df88-250fc618bf0f"
      },
      "execution_count": null,
      "outputs": [
        {
          "output_type": "stream",
          "name": "stdout",
          "text": [
            "[[0.01270675]]\n",
            "[-1.18358551]\n"
          ]
        }
      ]
    },
    {
      "cell_type": "code",
      "source": [
        "## prediction using model predict dependent var\n",
        "y_predict = model.predict(x_test)"
      ],
      "metadata": {
        "id": "ly9G_NY-ZnOy"
      },
      "execution_count": null,
      "outputs": []
    },
    {
      "cell_type": "code",
      "source": [
        "## visualisation\n",
        "\n",
        "import matplotlib.pyplot as plt"
      ],
      "metadata": {
        "id": "_G8B81LTWxG4"
      },
      "execution_count": null,
      "outputs": []
    },
    {
      "cell_type": "code",
      "source": [
        "plt.scatter(x_train,y_train)"
      ],
      "metadata": {
        "colab": {
          "base_uri": "https://localhost:8080/",
          "height": 447
        },
        "id": "XknU3qNyXuTG",
        "outputId": "a142d0de-69dd-4e6c-f527-8f4222fbc425"
      },
      "execution_count": null,
      "outputs": [
        {
          "output_type": "execute_result",
          "data": {
            "text/plain": [
              "<matplotlib.collections.PathCollection at 0x7e796a6a6650>"
            ]
          },
          "metadata": {},
          "execution_count": 20
        },
        {
          "output_type": "display_data",
          "data": {
            "text/plain": [
              "<Figure size 640x480 with 1 Axes>"
            ],
            "image/png": "[encoded data removed]"
          },
          "metadata": {}
        }
      ]
    },
    {
      "cell_type": "code",
      "source": [
        "plt.scatter(x_train,y_train)\n",
        "plt.plot(x_test,y_predict,color='red')\n",
        "plt.xlabel(\"Year\")\n",
        "plt.ylabel(\"Temperature\")\n",
        "plt.title(\"year vs temp for january\")"
      ],
      "metadata": {
        "colab": {
          "base_uri": "https://localhost:8080/",
          "height": 489
        },
        "id": "hhaboQ8VaZWx",
        "outputId": "d8f34232-b4ed-40a0-a4c9-c1da2ac1dbcf"
      },
      "execution_count": null,
      "outputs": [
        {
          "output_type": "execute_result",
          "data": {
            "text/plain": [
              "Text(0.5, 1.0, 'year vs temp for january')"
            ]
          },
          "metadata": {},
          "execution_count": 24
        },
        {
          "output_type": "display_data",
          "data": {
            "text/plain": [
              "<Figure size 640x480 with 1 Axes>"
            ],
            "image/png": "[encoded data removed]"
          },
          "metadata": {}
        }
      ]
    },
    {
      "cell_type": "code",
      "source": [
        "## model evaluation\n",
        "from sklearn.metrics import mean_squared_error, mean_absolute_error"
      ],
      "metadata": {
        "id": "SODCDSX-apCi"
      },
      "execution_count": null,
      "outputs": []
    },
    {
      "cell_type": "code",
      "source": [
        "mae = mean_absolute_error(y_test, y_predict)\n",
        "mse = mean_squared_error(y_test, y_predict)"
      ],
      "metadata": {
        "id": "hir3dIQ6bh4w"
      },
      "execution_count": null,
      "outputs": []
    },
    {
      "cell_type": "code",
      "source": [
        "import math\n",
        "\n",
        "rmse = math.sqrt(mse)"
      ],
      "metadata": {
        "id": "WHQCMwJ5b0f0"
      },
      "execution_count": null,
      "outputs": []
    },
    {
      "cell_type": "code",
      "source": [
        "print(f\"mae : {mae}\")\n",
        "print(f\"mse : {mse}\")\n",
        "print(f\"rmse : {rmse}\")"
      ],
      "metadata": {
        "colab": {
          "base_uri": "https://localhost:8080/"
        },
        "id": "gdtAykl_cGzh",
        "outputId": "aca32eec-0c85-4029-9f41-33ef939a8e33"
      },
      "execution_count": null,
      "outputs": [
        {
          "output_type": "stream",
          "name": "stdout",
          "text": [
            "mae : 0.5310934458632967\n",
            "mse : 0.46146139070808395\n",
            "rmse : 0.6793094955232732\n"
          ]
        }
      ]
    },
    {
      "cell_type": "code",
      "source": [
        "from sklearn.metrics import r2_score\n",
        "r2 = r2_score(y_test, y_predict)"
      ],
      "metadata": {
        "id": "_-JETlzRc2UZ"
      },
      "execution_count": null,
      "outputs": []
    },
    {
      "cell_type": "code",
      "source": [
        "print(r2)"
      ],
      "metadata": {
        "colab": {
          "base_uri": "https://localhost:8080/"
        },
        "id": "7bADsVk3dpLY",
        "outputId": "5e06ce2c-fb05-4044-bb4c-8826b628fb99"
      },
      "execution_count": null,
      "outputs": [
        {
          "output_type": "stream",
          "name": "stdout",
          "text": [
            "0.4377959355583543\n"
          ]
        }
      ]
    },
    {
      "cell_type": "code",
      "source": [],
      "metadata": {
        "id": "XQe7Sq-KdsLt"
      },
      "execution_count": null,
      "outputs": []
    }
  ]
}