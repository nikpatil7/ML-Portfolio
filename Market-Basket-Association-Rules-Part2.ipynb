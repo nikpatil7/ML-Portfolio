{
  "nbformat": 4,
  "nbformat_minor": 0,
  "metadata": {
    "colab": {
      "provenance": []
    },
    "kernelspec": {
      "name": "python3",
      "display_name": "Python 3"
    },
    "language_info": {
      "name": "python"
    }
  },
  "cells": [
    {
      "cell_type": "code",
      "execution_count": 2,
      "metadata": {
        "colab": {
          "base_uri": "https://localhost:8080/"
        },
        "id": "Ht1DpnmioMwg",
        "outputId": "e17f4e82-ba74-41c1-c313-181d38747e9c"
      },
      "outputs": [
        {
          "output_type": "stream",
          "name": "stdout",
          "text": [
            "Collecting apyori\n",
            "  Downloading apyori-1.1.2.tar.gz (8.6 kB)\n",
            "  Preparing metadata (setup.py) ... \u001b[?25l\u001b[?25hdone\n",
            "Building wheels for collected packages: apyori\n",
            "  Building wheel for apyori (setup.py) ... \u001b[?25l\u001b[?25hdone\n",
            "  Created wheel for apyori: filename=apyori-1.1.2-py3-none-any.whl size=5954 sha256=c868a96ef68ac20af0e447f872d5385dae1e99277fca0c0371e3ede9402b3f47\n",
            "  Stored in directory: /root/.cache/pip/wheels/c4/1a/79/20f55c470a50bb3702a8cb7c94d8ada15573538c7f4baebe2d\n",
            "Successfully built apyori\n",
            "Installing collected packages: apyori\n",
            "Successfully installed apyori-1.1.2\n",
            "Antecedent: ['brownies'], Consequent: ['cottage cheese'], Support: 0.0035, Lift: 3.2253\n",
            "Antecedent: ['cottage cheese'], Consequent: ['brownies'], Support: 0.0035, Lift: 3.2253\n",
            "Antecedent: ['chicken'], Consequent: ['light cream'], Support: 0.0045, Lift: 4.8440\n",
            "Antecedent: ['light cream'], Consequent: ['chicken'], Support: 0.0045, Lift: 4.8440\n",
            "Antecedent: ['escalope'], Consequent: ['mushroom cream sauce'], Support: 0.0057, Lift: 3.7908\n",
            "Antecedent: ['mushroom cream sauce'], Consequent: ['escalope'], Support: 0.0057, Lift: 3.7908\n",
            "Antecedent: ['escalope'], Consequent: ['pasta'], Support: 0.0059, Lift: 4.7008\n",
            "Antecedent: ['pasta'], Consequent: ['escalope'], Support: 0.0059, Lift: 4.7008\n",
            "Antecedent: ['fresh bread'], Consequent: ['tomato juice'], Support: 0.0043, Lift: 3.2594\n",
            "Antecedent: ['tomato juice'], Consequent: ['fresh bread'], Support: 0.0043, Lift: 3.2594\n",
            "Antecedent: ['fresh tuna'], Consequent: ['honey'], Support: 0.0040, Lift: 3.7851\n",
            "Antecedent: ['honey'], Consequent: ['fresh tuna'], Support: 0.0040, Lift: 3.7851\n",
            "Antecedent: ['fromage blanc'], Consequent: ['honey'], Support: 0.0033, Lift: 5.1643\n",
            "Antecedent: ['honey'], Consequent: ['fromage blanc'], Support: 0.0033, Lift: 5.1643\n",
            "Antecedent: ['ground beef'], Consequent: ['herb & pepper'], Support: 0.0160, Lift: 3.2920\n",
            "Antecedent: ['herb & pepper'], Consequent: ['ground beef'], Support: 0.0160, Lift: 3.2920\n",
            "Antecedent: ['ground beef'], Consequent: ['tomato sauce'], Support: 0.0053, Lift: 3.8407\n",
            "Antecedent: ['tomato sauce'], Consequent: ['ground beef'], Support: 0.0053, Lift: 3.8407\n",
            "Antecedent: ['light cream'], Consequent: ['olive oil'], Support: 0.0032, Lift: 3.1147\n",
            "Antecedent: ['olive oil'], Consequent: ['light cream'], Support: 0.0032, Lift: 3.1147\n"
          ]
        }
      ],
      "source": [
        "# Step 1: Import necessary libraries\n",
        "import pandas as pd\n",
        "!pip install apyori\n",
        "from apyori import apriori\n",
        "\n",
        "# Step 2: Load and preprocess the dataset\n",
        "data = pd.read_csv(r\"/content/6Market_Basket_Optimisation - Copy.csv\", header=None)\n",
        "data.fillna(0, inplace=True)\n",
        "\n",
        "# Step 3: Prepare the transactions list\n",
        "transactions = []\n",
        "for i in range(len(data)):\n",
        "    transactions.append([str(data.values[i, j]) for j in range(data.shape[1])])\n",
        "\n",
        "# Step 4: Apply the Apriori algorithm\n",
        "rule_list = apriori(transactions, min_support=0.003, min_lift=3, min_length=2)\n",
        "\n",
        "# Step 5: Display the first few rules\n",
        "results = list(rule_list)\n",
        "for rule in results[:10]:  # Display up to 10 rules\n",
        "    for ordered_stat in rule.ordered_statistics:\n",
        "        antecedent = list(ordered_stat.items_base)\n",
        "        consequent = list(ordered_stat.items_add)\n",
        "        support = rule.support\n",
        "        lift = ordered_stat.lift\n",
        "        print(f\"Antecedent: {antecedent}, Consequent: {consequent}, Support: {support:.4f}, Lift: {lift:.4f}\")\n"
      ]
    },
    {
      "cell_type": "code",
      "source": [
        "print(len(results))"
      ],
      "metadata": {
        "colab": {
          "base_uri": "https://localhost:8080/"
        },
        "id": "6ayVZmV6otZo",
        "outputId": "8a3ba297-879f-4266-a8a1-e773caf2ba27"
      },
      "execution_count": 4,
      "outputs": [
        {
          "output_type": "stream",
          "name": "stdout",
          "text": [
            "188\n"
          ]
        }
      ]
    },
    {
      "cell_type": "code",
      "source": [],
      "metadata": {
        "id": "mqO86sjYpAu2"
      },
      "execution_count": null,
      "outputs": []
    }
  ]
}